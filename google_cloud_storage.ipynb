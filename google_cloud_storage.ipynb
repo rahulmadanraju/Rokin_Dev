{
 "cells": [
  {
   "cell_type": "code",
   "execution_count": 0,
   "metadata": {
    "id": "JyFKXPBzJk_A",
    "colab_type": "code",
    "outputId": "042fd2da-64ff-4223-cd37-872e4b65a944",
    "colab": {
     "base_uri": "https://localhost:8080/",
     "height": 34.0
    }
   },
   "outputs": [
    {
     "name": "stdout",
     "output_type": "stream",
     "text": [
      "/content/drive/My Drive/rokin-ws/google-cloud/data-tools\n"
     ]
    }
   ],
   "source": [
    "%cd /content"
   ]
  },
  {
   "cell_type": "code",
   "execution_count": 0,
   "metadata": {
    "id": "82RfwsV4KVZN",
    "colab_type": "code",
    "colab": {}
   },
   "outputs": [],
   "source": [
    "from google.colab import auth\n",
    "auth.authenticate_user()"
   ]
  },
  {
   "cell_type": "markdown",
   "metadata": {
    "id": "P185m-OVYBrV",
    "colab_type": "text"
   },
   "source": [
    "This code is for our members which want to work with our data. \n",
    "\n",
    "First Line: Create a folder named \"rokin-articles\" in your colab session under the folder content.\n",
    "\n",
    "Second Line: Download our data from google cloud data lake.\n",
    "- Copy files to from path: gs://rokin-articles \n",
    "- Copy files to this path: /content/rokin-articles  (P.S. this is an example path. Please be aware of the white spaces in the folder names.)\n"
   ]
  },
  {
   "cell_type": "code",
   "execution_count": 0,
   "metadata": {
    "id": "MOM9UaZObOjF",
    "colab_type": "code",
    "colab": {}
   },
   "outputs": [],
   "source": [
    "%ls"
   ]
  },
  {
   "cell_type": "code",
   "execution_count": 0,
   "metadata": {
    "id": "7KbybR6qKjNv",
    "colab_type": "code",
    "outputId": "8cc093ca-7092-4ba6-e007-6740e6a8f71a",
    "colab": {
     "base_uri": "https://localhost:8080/",
     "height": 102.0
    }
   },
   "outputs": [
    {
     "name": "stdout",
     "output_type": "stream",
     "text": [
      "Building synchronization state...\n",
      "Starting synchronization...\n",
      "Copying gs://rokin-articles/experiment-2-reduced.json...\n",
      "- [1 files][ 67.2 KiB/ 67.2 KiB]                                                \n",
      "Operation completed over 1 objects/67.2 KiB.                                     \n"
     ]
    }
   ],
   "source": [
    "!mkdir -p /content/rokin-articles\n",
    "#!gsutil rsync gs://rokin-articles /content/rokin-articles\n",
    "!gsutil cp gs://rokin-articles/ToBeCleaned.json /content/rokin-articles"
   ]
  },
  {
   "cell_type": "code",
   "execution_count": 0,
   "metadata": {
    "id": "Opa0HCfxbQ1z",
    "colab_type": "code",
    "colab": {}
   },
   "outputs": [],
   "source": [
    "%ls"
   ]
  },
  {
   "cell_type": "markdown",
   "metadata": {
    "id": "WwToURF3YnvV",
    "colab_type": "text"
   },
   "source": [
    "This code is only for members with \"write\" permission(aka admin). It allows us to upload our data in folder \"test\" into google cloud. \n",
    "- Copy files from this path: /content/drive/My\\ Drive/test  (P.S. this is an example path. Please be aware of the white spaces in the folder names.)\n",
    "- Copy files to this path: gs://rokin-articles "
   ]
  },
  {
   "cell_type": "code",
   "execution_count": 0,
   "metadata": {
    "id": "fhxPRfoRL93E",
    "colab_type": "code",
    "outputId": "9fc5b965-cde0-47cb-b4c4-8554e4de5483",
    "colab": {
     "base_uri": "https://localhost:8080/",
     "height": 102.0
    }
   },
   "outputs": [
    {
     "name": "stdout",
     "output_type": "stream",
     "text": [
      "Building synchronization state...\n",
      "Starting synchronization...\n",
      "Copying file:///content/drive/My Drive/test/experiment-2-reduced.json [Content-Type=application/json]...\n",
      "-\n",
      "Operation completed over 1 objects/67.2 KiB.                                     \n"
     ]
    }
   ],
   "source": [
    ""
   ]
  }
 ],
 "metadata": {
  "colab": {
   "name": "cloud_storage_example.ipynb",
   "provenance": [],
   "collapsed_sections": []
  },
  "kernelspec": {
   "name": "python3",
   "display_name": "Python 3"
  }
 },
 "nbformat": 4,
 "nbformat_minor": 0
}
